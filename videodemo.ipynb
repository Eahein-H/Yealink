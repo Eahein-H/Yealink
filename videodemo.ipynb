{
 "cells": [
  {
   "cell_type": "code",
   "execution_count": null,
   "metadata": {},
   "outputs": [],
   "source": [
    "import os\n",
    "\n",
    "file_path = []\n",
    "for root, ds, fs in os.walk(\"/home/huangyih/valimages\"):\n",
    "        for f in fs:\n",
    "            fullname = os.path.join(root, f)\n",
    "            file_path.append(fullname)\n",
    "print(len(file_path))\n",
    "\n",
    "counts = 1\n",
    "path = str(counts) + \".jpg\"\n",
    "print(path)\n"
   ]
  },
  {
   "cell_type": "code",
   "execution_count": null,
   "metadata": {},
   "outputs": [],
   "source": [
    "import os\n",
    "import cv2\n",
    "import imageio\n",
    "\n",
    "path = '/home/huangyih/OSX/vediodemo_output'\n",
    "path_list = os.listdir(path)\n",
    "path_list.sort(key=lambda x:int(x[:-4]))\n",
    "files = [os.path.join(path, f) for f in path_list]\n",
    "frames = []\n",
    "\n",
    "counts = 0\n",
    "for f in files:\n",
    "\tcounts += 1\n",
    "\tif counts < 447: continue\n",
    "\timg = imageio.imread(f)  # RGB格式的array\n",
    "\timg_re = cv2.resize(img, (1920,1080), interpolation=cv2.INTER_CUBIC)\n",
    "\tframes.append(img_re)\n",
    "imageio.mimsave('res3.gif', frames, duration=300)\n"
   ]
  },
  {
   "cell_type": "code",
   "execution_count": 2,
   "metadata": {},
   "outputs": [
    {
     "name": "stderr",
     "output_type": "stream",
     "text": [
      "OpenCV: FFMPEG: format mp4 / MP4 (MPEG-4 Part 14)\n"
     ]
    },
    {
     "name": "stdout",
     "output_type": "stream",
     "text": [
      "fourcc tag 0x7634706d/'mp4v' codec_id 000C\n",
      "fourcc tag 0x31637661/'avc1' codec_id 001B\n",
      "fourcc tag 0x33637661/'avc3' codec_id 001B\n",
      "fourcc tag 0x31766568/'hev1' codec_id 00AD\n",
      "fourcc tag 0x31637668/'hvc1' codec_id 00AD\n",
      "fourcc tag 0x7634706d/'mp4v' codec_id 0002\n",
      "fourcc tag 0x7634706d/'mp4v' codec_id 0001\n",
      "fourcc tag 0x7634706d/'mp4v' codec_id 0007\n",
      "fourcc tag 0x7634706d/'mp4v' codec_id 003D\n",
      "fourcc tag 0x7634706d/'mp4v' codec_id 0058\n",
      "fourcc tag 0x312d6376/'vc-1' codec_id 0046\n",
      "fourcc tag 0x63617264/'drac' codec_id 0074\n",
      "fourcc tag 0x7634706d/'mp4v' codec_id 00A3\n",
      "fourcc tag 0x39307076/'vp09' codec_id 00A7\n",
      "fourcc tag 0x31307661/'av01' codec_id 00E2\n",
      "fourcc tag 0x6134706d/'mp4a' codec_id 15002\n",
      "fourcc tag 0x63616c61/'alac' codec_id 15010\n",
      "fourcc tag 0x6134706d/'mp4a' codec_id 1502D\n",
      "fourcc tag 0x6134706d/'mp4a' codec_id 15001\n",
      "fourcc tag 0x6134706d/'mp4a' codec_id 15000\n",
      "fourcc tag 0x332d6361/'ac-3' codec_id 15003\n",
      "fourcc tag 0x332d6365/'ec-3' codec_id 15028\n",
      "fourcc tag 0x6134706d/'mp4a' codec_id 15004\n",
      "fourcc tag 0x61706c6d/'mlpa' codec_id 1502C\n",
      "fourcc tag 0x43614c66/'fLaC' codec_id 1500C\n",
      "fourcc tag 0x7375704f/'Opus' codec_id 1503C\n",
      "fourcc tag 0x6134706d/'mp4a' codec_id 15005\n",
      "fourcc tag 0x6134706d/'mp4a' codec_id 15018\n",
      "fourcc tag 0x6134706d/'mp4a' codec_id 15047\n",
      "fourcc tag 0x7334706d/'mp4s' codec_id 17000\n",
      "fourcc tag 0x67337874/'tx3g' codec_id 17005\n",
      "fourcc tag 0x646d7067/'gpmd' codec_id 1800A\n",
      "fourcc tag 0x316d686d/'mhm1' codec_id 1505B\n",
      "fourcc tag 0x70707473/'stpp' codec_id 17018\n",
      "fourcc tag 0x70786664/'dfxp' codec_id 17018\n",
      "end!\n"
     ]
    }
   ],
   "source": [
    "import numpy as np\n",
    "import cv2\n",
    "import os\n",
    "size = (1920,1080)#这个是图片的尺寸，一定要和要用的图片size一致\n",
    "#完成写入对象的创建，第一个参数是合成之后的视频的名称，第二个参数是可以使用的编码器，第三个参数是帧率即每秒钟展示多少张图片，第四个参数是图片大小信息\n",
    "videowrite = cv2.VideoWriter('/home/huangyih/OSX/vediodemo.mp4',-1,20,size)#20是帧数，size是图片尺寸\n",
    "file_path = []\n",
    "for root, ds, fs in os.walk(\"/home/huangyih/OSX/vediodemo_output_2\"):\n",
    "        for f in fs:\n",
    "            fullname = os.path.join(root, f)\n",
    "            file_path.append(fullname)\n",
    "\n",
    "for path in file_path:\n",
    "    img = cv2.imread(path)\n",
    "    videowrite.write(img)\n",
    "videowrite.release()\n",
    "print('end!')\n"
   ]
  }
 ],
 "metadata": {
  "kernelspec": {
   "display_name": "env_3DProject",
   "language": "python",
   "name": "python3"
  },
  "language_info": {
   "codemirror_mode": {
    "name": "ipython",
    "version": 3
   },
   "file_extension": ".py",
   "mimetype": "text/x-python",
   "name": "python",
   "nbconvert_exporter": "python",
   "pygments_lexer": "ipython3",
   "version": "3.9.16"
  },
  "orig_nbformat": 4
 },
 "nbformat": 4,
 "nbformat_minor": 2
}
